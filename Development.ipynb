{
 "cells": [
  {
   "cell_type": "markdown",
   "metadata": {},
   "source": [
    "# Plate Buckling Calculations"
   ]
  },
  {
   "cell_type": "markdown",
   "metadata": {},
   "source": [
    "This notebook documents the development of this library of python plate buckling tools. The pertinent inputs are provided in the config.toml file. The parameters are as follows:\n",
    "- $a$: length\n",
    "- $b$: width\n",
    "- $t$: thickness\n",
    "- $E$: material Young's Modulus\n",
    "- $F_{cy}$: material yield strength\n",
    "- $n$: Material shape parameter (use 20 if not available)\n",
    "- $K_c$: Compression buckling coefficient (from table, add interpolation later)\n",
    "- Fc_cr_initial: Initial guess of buckling stress\n",
    "- loading: loading type \"compression\", \"shear\", or \"bending\". Currently only \"compression\" is supported"
   ]
  },
  {
   "cell_type": "markdown",
   "metadata": {},
   "source": [
    "- may be a way for pathlib to return a file object"
   ]
  },
  {
   "cell_type": "code",
   "execution_count": null,
   "metadata": {},
   "outputs": [],
   "source": [
    "import tomllib\n",
    "from pathlib import Path\n",
    "\n",
    "p = Path('config.toml')\n",
    "with p.open('rb') as f:\n",
    "    config = tomllib.load(f)"
   ]
  },
  {
   "cell_type": "code",
   "execution_count": null,
   "metadata": {},
   "outputs": [],
   "source": [
    "from PlateBuckling import Inputs\n",
    "data = Inputs(**config['flange_1'])\n",
    "data"
   ]
  },
  {
   "cell_type": "code",
   "execution_count": null,
   "metadata": {},
   "outputs": [],
   "source": [
    "data.CompressionBucklingAllowable()"
   ]
  },
  {
   "cell_type": "code",
   "execution_count": null,
   "metadata": {},
   "outputs": [],
   "source": []
  }
 ],
 "metadata": {
  "language_info": {
   "name": "python"
  }
 },
 "nbformat": 4,
 "nbformat_minor": 2
}
